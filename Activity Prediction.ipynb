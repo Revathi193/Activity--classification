{
 "cells": [
  {
   "cell_type": "code",
   "execution_count": 1,
   "metadata": {},
   "outputs": [],
   "source": [
    "#importing libraries\n",
    "import pandas as pd\n",
    "import numpy as np\n",
    "from numpy import mean\n",
    "from sklearn.preprocessing import LabelEncoder\n",
    "from sklearn import preprocessing\n",
    "from sklearn.neighbors import KNeighborsClassifier\n",
    "from sklearn.model_selection import train_test_split\n",
    "from imblearn.over_sampling import SMOTE\n",
    "from imblearn.over_sampling import RandomOverSampler\n",
    "from sklearn.linear_model import LogisticRegression\n",
    "from sklearn.metrics import accuracy_score,precision_score,recall_score,f1_score\n",
    "from sklearn.metrics import confusion_matrix\n",
    "from sklearn.metrics import roc_curve\n",
    "from sklearn.metrics import roc_auc_score\n",
    "from xgboost import XGBClassifier\n",
    "from xgboost import plot_tree\n",
    "from xgboost import plot_importance\n",
    "import pickle\n",
    "import time\n",
    "import datetime as DT\n",
    "from elasticsearch import helpers,Elasticsearch\n",
    "import csv\n",
    "import json\n",
    "import datetime\n",
    "import matplotlib.pyplot as plt"
   ]
  },
  {
   "cell_type": "code",
   "execution_count": 2,
   "metadata": {},
   "outputs": [],
   "source": [
    "#reading all datas\n",
    "data_one=pd.read_csv(\"data/1.csv\",header=None)\n",
    "data_two=pd.read_csv(\"data/2.csv\",header=None)\n",
    "data_three=pd.read_csv(\"data/3.csv\",header=None)\n",
    "data_four=pd.read_csv(\"data/4.csv\",header=None)\n",
    "data_five=pd.read_csv(\"data/5.csv\",header=None)\n",
    "data_six=pd.read_csv(\"data/6.csv\",header=None)\n",
    "data_seven=pd.read_csv(\"data/7.csv\",header=None)\n",
    "data_eight=pd.read_csv(\"data/8.csv\",header=None)\n",
    "data_nine=pd.read_csv(\"data/9.csv\",header=None)\n",
    "data_ten=pd.read_csv(\"data/10.csv\",header=None)\n",
    "data_eleven=pd.read_csv(\"data/11.csv\",header=None)\n",
    "data_twelve=pd.read_csv(\"data/12.csv\",header=None)\n",
    "data_thirteen=pd.read_csv(\"data/13.csv\",header=None)\n",
    "data_fourteen=pd.read_csv(\"data/14.csv\",header=None)\n",
    "data_fifteen=pd.read_csv(\"data/15.csv\",header=None)"
   ]
  },
  {
   "cell_type": "code",
   "execution_count": 3,
   "metadata": {},
   "outputs": [
    {
     "data": {
      "text/html": [
       "<div>\n",
       "<style scoped>\n",
       "    .dataframe tbody tr th:only-of-type {\n",
       "        vertical-align: middle;\n",
       "    }\n",
       "\n",
       "    .dataframe tbody tr th {\n",
       "        vertical-align: top;\n",
       "    }\n",
       "\n",
       "    .dataframe thead th {\n",
       "        text-align: right;\n",
       "    }\n",
       "</style>\n",
       "<table border=\"1\" class=\"dataframe\">\n",
       "  <thead>\n",
       "    <tr style=\"text-align: right;\">\n",
       "      <th></th>\n",
       "      <th>0</th>\n",
       "      <th>1</th>\n",
       "      <th>2</th>\n",
       "      <th>3</th>\n",
       "      <th>4</th>\n",
       "    </tr>\n",
       "  </thead>\n",
       "  <tbody>\n",
       "    <tr>\n",
       "      <th>0</th>\n",
       "      <td>0.0</td>\n",
       "      <td>1502</td>\n",
       "      <td>2215</td>\n",
       "      <td>2153</td>\n",
       "      <td>1</td>\n",
       "    </tr>\n",
       "    <tr>\n",
       "      <th>1</th>\n",
       "      <td>1.0</td>\n",
       "      <td>1667</td>\n",
       "      <td>2072</td>\n",
       "      <td>2047</td>\n",
       "      <td>1</td>\n",
       "    </tr>\n",
       "    <tr>\n",
       "      <th>2</th>\n",
       "      <td>2.0</td>\n",
       "      <td>1611</td>\n",
       "      <td>1957</td>\n",
       "      <td>1906</td>\n",
       "      <td>1</td>\n",
       "    </tr>\n",
       "    <tr>\n",
       "      <th>3</th>\n",
       "      <td>3.0</td>\n",
       "      <td>1601</td>\n",
       "      <td>1939</td>\n",
       "      <td>1831</td>\n",
       "      <td>1</td>\n",
       "    </tr>\n",
       "    <tr>\n",
       "      <th>4</th>\n",
       "      <td>4.0</td>\n",
       "      <td>1643</td>\n",
       "      <td>1965</td>\n",
       "      <td>1879</td>\n",
       "      <td>1</td>\n",
       "    </tr>\n",
       "  </tbody>\n",
       "</table>\n",
       "</div>"
      ],
      "text/plain": [
       "     0     1     2     3  4\n",
       "0  0.0  1502  2215  2153  1\n",
       "1  1.0  1667  2072  2047  1\n",
       "2  2.0  1611  1957  1906  1\n",
       "3  3.0  1601  1939  1831  1\n",
       "4  4.0  1643  1965  1879  1"
      ]
     },
     "execution_count": 3,
     "metadata": {},
     "output_type": "execute_result"
    }
   ],
   "source": [
    "data_one.head()"
   ]
  },
  {
   "cell_type": "code",
   "execution_count": 4,
   "metadata": {},
   "outputs": [],
   "source": [
    "## replacing sequential number with participant number\n",
    "data_one[0]=1\n",
    "data_two[0]=2\n",
    "data_three[0]=3\n",
    "data_four[0]=4\n",
    "data_five[0]=5\n",
    "data_six[0]=6\n",
    "data_seven[0]=7\n",
    "data_eight[0]=8\n",
    "data_nine[0]=9\n",
    "data_ten[0]=10\n",
    "data_eleven[0]=11\n",
    "data_twelve[0]=12\n",
    "data_thirteen[0]=13\n",
    "data_fourteen[0]=14\n",
    "data_fifteen[0]=15"
   ]
  },
  {
   "cell_type": "code",
   "execution_count": 5,
   "metadata": {},
   "outputs": [
    {
     "data": {
      "text/html": [
       "<div>\n",
       "<style scoped>\n",
       "    .dataframe tbody tr th:only-of-type {\n",
       "        vertical-align: middle;\n",
       "    }\n",
       "\n",
       "    .dataframe tbody tr th {\n",
       "        vertical-align: top;\n",
       "    }\n",
       "\n",
       "    .dataframe thead th {\n",
       "        text-align: right;\n",
       "    }\n",
       "</style>\n",
       "<table border=\"1\" class=\"dataframe\">\n",
       "  <thead>\n",
       "    <tr style=\"text-align: right;\">\n",
       "      <th></th>\n",
       "      <th>0</th>\n",
       "      <th>1</th>\n",
       "      <th>2</th>\n",
       "      <th>3</th>\n",
       "      <th>4</th>\n",
       "    </tr>\n",
       "  </thead>\n",
       "  <tbody>\n",
       "    <tr>\n",
       "      <th>162496</th>\n",
       "      <td>1</td>\n",
       "      <td>1927</td>\n",
       "      <td>2388</td>\n",
       "      <td>2074</td>\n",
       "      <td>7</td>\n",
       "    </tr>\n",
       "    <tr>\n",
       "      <th>162497</th>\n",
       "      <td>1</td>\n",
       "      <td>1930</td>\n",
       "      <td>2383</td>\n",
       "      <td>2074</td>\n",
       "      <td>7</td>\n",
       "    </tr>\n",
       "    <tr>\n",
       "      <th>162498</th>\n",
       "      <td>1</td>\n",
       "      <td>1929</td>\n",
       "      <td>2385</td>\n",
       "      <td>2076</td>\n",
       "      <td>7</td>\n",
       "    </tr>\n",
       "    <tr>\n",
       "      <th>162499</th>\n",
       "      <td>1</td>\n",
       "      <td>1926</td>\n",
       "      <td>2385</td>\n",
       "      <td>2078</td>\n",
       "      <td>7</td>\n",
       "    </tr>\n",
       "    <tr>\n",
       "      <th>162500</th>\n",
       "      <td>1</td>\n",
       "      <td>1922</td>\n",
       "      <td>2387</td>\n",
       "      <td>2078</td>\n",
       "      <td>0</td>\n",
       "    </tr>\n",
       "  </tbody>\n",
       "</table>\n",
       "</div>"
      ],
      "text/plain": [
       "        0     1     2     3  4\n",
       "162496  1  1927  2388  2074  7\n",
       "162497  1  1930  2383  2074  7\n",
       "162498  1  1929  2385  2076  7\n",
       "162499  1  1926  2385  2078  7\n",
       "162500  1  1922  2387  2078  0"
      ]
     },
     "execution_count": 5,
     "metadata": {},
     "output_type": "execute_result"
    }
   ],
   "source": [
    "data_one.tail()"
   ]
  },
  {
   "cell_type": "code",
   "execution_count": 6,
   "metadata": {},
   "outputs": [],
   "source": [
    "#Concatenating all dataframes\n",
    "df=pd.concat([data_one,data_two,data_three,data_four,data_five,data_six,data_seven,data_eight,data_nine,data_ten,data_eleven,data_twelve,data_thirteen,data_fourteen,data_fifteen],axis=0)"
   ]
  },
  {
   "cell_type": "code",
   "execution_count": 7,
   "metadata": {},
   "outputs": [
    {
     "data": {
      "text/html": [
       "<div>\n",
       "<style scoped>\n",
       "    .dataframe tbody tr th:only-of-type {\n",
       "        vertical-align: middle;\n",
       "    }\n",
       "\n",
       "    .dataframe tbody tr th {\n",
       "        vertical-align: top;\n",
       "    }\n",
       "\n",
       "    .dataframe thead th {\n",
       "        text-align: right;\n",
       "    }\n",
       "</style>\n",
       "<table border=\"1\" class=\"dataframe\">\n",
       "  <thead>\n",
       "    <tr style=\"text-align: right;\">\n",
       "      <th></th>\n",
       "      <th>0</th>\n",
       "      <th>1</th>\n",
       "      <th>2</th>\n",
       "      <th>3</th>\n",
       "      <th>4</th>\n",
       "    </tr>\n",
       "  </thead>\n",
       "  <tbody>\n",
       "    <tr>\n",
       "      <th>0</th>\n",
       "      <td>1</td>\n",
       "      <td>1502</td>\n",
       "      <td>2215</td>\n",
       "      <td>2153</td>\n",
       "      <td>1</td>\n",
       "    </tr>\n",
       "    <tr>\n",
       "      <th>1</th>\n",
       "      <td>1</td>\n",
       "      <td>1667</td>\n",
       "      <td>2072</td>\n",
       "      <td>2047</td>\n",
       "      <td>1</td>\n",
       "    </tr>\n",
       "    <tr>\n",
       "      <th>2</th>\n",
       "      <td>1</td>\n",
       "      <td>1611</td>\n",
       "      <td>1957</td>\n",
       "      <td>1906</td>\n",
       "      <td>1</td>\n",
       "    </tr>\n",
       "    <tr>\n",
       "      <th>3</th>\n",
       "      <td>1</td>\n",
       "      <td>1601</td>\n",
       "      <td>1939</td>\n",
       "      <td>1831</td>\n",
       "      <td>1</td>\n",
       "    </tr>\n",
       "    <tr>\n",
       "      <th>4</th>\n",
       "      <td>1</td>\n",
       "      <td>1643</td>\n",
       "      <td>1965</td>\n",
       "      <td>1879</td>\n",
       "      <td>1</td>\n",
       "    </tr>\n",
       "  </tbody>\n",
       "</table>\n",
       "</div>"
      ],
      "text/plain": [
       "   0     1     2     3  4\n",
       "0  1  1502  2215  2153  1\n",
       "1  1  1667  2072  2047  1\n",
       "2  1  1611  1957  1906  1\n",
       "3  1  1601  1939  1831  1\n",
       "4  1  1643  1965  1879  1"
      ]
     },
     "execution_count": 7,
     "metadata": {},
     "output_type": "execute_result"
    }
   ],
   "source": [
    "df.head()"
   ]
  },
  {
   "cell_type": "code",
   "execution_count": 8,
   "metadata": {},
   "outputs": [
    {
     "data": {
      "text/plain": [
       "(1926896, 5)"
      ]
     },
     "execution_count": 8,
     "metadata": {},
     "output_type": "execute_result"
    }
   ],
   "source": [
    "df.shape #shape of final dataframe"
   ]
  },
  {
   "cell_type": "code",
   "execution_count": 9,
   "metadata": {},
   "outputs": [],
   "source": [
    "df.columns=['seq_no','acc_x','acc_y','acc_z','activity'] ## adding column names"
   ]
  },
  {
   "cell_type": "code",
   "execution_count": 10,
   "metadata": {},
   "outputs": [
    {
     "data": {
      "text/html": [
       "<div>\n",
       "<style scoped>\n",
       "    .dataframe tbody tr th:only-of-type {\n",
       "        vertical-align: middle;\n",
       "    }\n",
       "\n",
       "    .dataframe tbody tr th {\n",
       "        vertical-align: top;\n",
       "    }\n",
       "\n",
       "    .dataframe thead th {\n",
       "        text-align: right;\n",
       "    }\n",
       "</style>\n",
       "<table border=\"1\" class=\"dataframe\">\n",
       "  <thead>\n",
       "    <tr style=\"text-align: right;\">\n",
       "      <th></th>\n",
       "      <th>seq_no</th>\n",
       "      <th>acc_x</th>\n",
       "      <th>acc_y</th>\n",
       "      <th>acc_z</th>\n",
       "      <th>activity</th>\n",
       "    </tr>\n",
       "  </thead>\n",
       "  <tbody>\n",
       "    <tr>\n",
       "      <th>0</th>\n",
       "      <td>1</td>\n",
       "      <td>1502</td>\n",
       "      <td>2215</td>\n",
       "      <td>2153</td>\n",
       "      <td>1</td>\n",
       "    </tr>\n",
       "    <tr>\n",
       "      <th>1</th>\n",
       "      <td>1</td>\n",
       "      <td>1667</td>\n",
       "      <td>2072</td>\n",
       "      <td>2047</td>\n",
       "      <td>1</td>\n",
       "    </tr>\n",
       "    <tr>\n",
       "      <th>2</th>\n",
       "      <td>1</td>\n",
       "      <td>1611</td>\n",
       "      <td>1957</td>\n",
       "      <td>1906</td>\n",
       "      <td>1</td>\n",
       "    </tr>\n",
       "    <tr>\n",
       "      <th>3</th>\n",
       "      <td>1</td>\n",
       "      <td>1601</td>\n",
       "      <td>1939</td>\n",
       "      <td>1831</td>\n",
       "      <td>1</td>\n",
       "    </tr>\n",
       "    <tr>\n",
       "      <th>4</th>\n",
       "      <td>1</td>\n",
       "      <td>1643</td>\n",
       "      <td>1965</td>\n",
       "      <td>1879</td>\n",
       "      <td>1</td>\n",
       "    </tr>\n",
       "  </tbody>\n",
       "</table>\n",
       "</div>"
      ],
      "text/plain": [
       "   seq_no  acc_x  acc_y  acc_z  activity\n",
       "0       1   1502   2215   2153         1\n",
       "1       1   1667   2072   2047         1\n",
       "2       1   1611   1957   1906         1\n",
       "3       1   1601   1939   1831         1\n",
       "4       1   1643   1965   1879         1"
      ]
     },
     "execution_count": 10,
     "metadata": {},
     "output_type": "execute_result"
    }
   ],
   "source": [
    "df.head()"
   ]
  },
  {
   "cell_type": "code",
   "execution_count": 11,
   "metadata": {},
   "outputs": [
    {
     "data": {
      "text/plain": [
       "1    608667\n",
       "7    593563\n",
       "4    357064\n",
       "3    216737\n",
       "5     51498\n",
       "2     47878\n",
       "6     47770\n",
       "0      3719\n",
       "Name: activity, dtype: int64"
      ]
     },
     "execution_count": 11,
     "metadata": {},
     "output_type": "execute_result"
    }
   ],
   "source": [
    "df.activity.value_counts()"
   ]
  },
  {
   "cell_type": "code",
   "execution_count": 12,
   "metadata": {},
   "outputs": [
    {
     "data": {
      "text/html": [
       "<div>\n",
       "<style scoped>\n",
       "    .dataframe tbody tr th:only-of-type {\n",
       "        vertical-align: middle;\n",
       "    }\n",
       "\n",
       "    .dataframe tbody tr th {\n",
       "        vertical-align: top;\n",
       "    }\n",
       "\n",
       "    .dataframe thead th {\n",
       "        text-align: right;\n",
       "    }\n",
       "</style>\n",
       "<table border=\"1\" class=\"dataframe\">\n",
       "  <thead>\n",
       "    <tr style=\"text-align: right;\">\n",
       "      <th></th>\n",
       "      <th>seq_no</th>\n",
       "      <th>acc_x</th>\n",
       "      <th>acc_y</th>\n",
       "      <th>acc_z</th>\n",
       "      <th>activity</th>\n",
       "    </tr>\n",
       "  </thead>\n",
       "  <tbody>\n",
       "    <tr>\n",
       "      <th>count</th>\n",
       "      <td>1.926896e+06</td>\n",
       "      <td>1.926896e+06</td>\n",
       "      <td>1.926896e+06</td>\n",
       "      <td>1.926896e+06</td>\n",
       "      <td>1.926896e+06</td>\n",
       "    </tr>\n",
       "    <tr>\n",
       "      <th>mean</th>\n",
       "      <td>7.512711e+00</td>\n",
       "      <td>1.987652e+03</td>\n",
       "      <td>2.382523e+03</td>\n",
       "      <td>1.970596e+03</td>\n",
       "      <td>3.882898e+00</td>\n",
       "    </tr>\n",
       "    <tr>\n",
       "      <th>std</th>\n",
       "      <td>4.172396e+00</td>\n",
       "      <td>1.113578e+02</td>\n",
       "      <td>1.003151e+02</td>\n",
       "      <td>9.445893e+01</td>\n",
       "      <td>2.443402e+00</td>\n",
       "    </tr>\n",
       "    <tr>\n",
       "      <th>min</th>\n",
       "      <td>1.000000e+00</td>\n",
       "      <td>2.820000e+02</td>\n",
       "      <td>2.000000e+00</td>\n",
       "      <td>1.000000e+00</td>\n",
       "      <td>0.000000e+00</td>\n",
       "    </tr>\n",
       "    <tr>\n",
       "      <th>25%</th>\n",
       "      <td>4.000000e+00</td>\n",
       "      <td>1.904000e+03</td>\n",
       "      <td>2.337000e+03</td>\n",
       "      <td>1.918000e+03</td>\n",
       "      <td>1.000000e+00</td>\n",
       "    </tr>\n",
       "    <tr>\n",
       "      <th>50%</th>\n",
       "      <td>7.000000e+00</td>\n",
       "      <td>1.992000e+03</td>\n",
       "      <td>2.367000e+03</td>\n",
       "      <td>1.988000e+03</td>\n",
       "      <td>4.000000e+00</td>\n",
       "    </tr>\n",
       "    <tr>\n",
       "      <th>75%</th>\n",
       "      <td>1.100000e+01</td>\n",
       "      <td>2.076000e+03</td>\n",
       "      <td>2.413000e+03</td>\n",
       "      <td>2.032000e+03</td>\n",
       "      <td>7.000000e+00</td>\n",
       "    </tr>\n",
       "    <tr>\n",
       "      <th>max</th>\n",
       "      <td>1.500000e+01</td>\n",
       "      <td>3.828000e+03</td>\n",
       "      <td>4.095000e+03</td>\n",
       "      <td>4.095000e+03</td>\n",
       "      <td>7.000000e+00</td>\n",
       "    </tr>\n",
       "  </tbody>\n",
       "</table>\n",
       "</div>"
      ],
      "text/plain": [
       "             seq_no         acc_x         acc_y         acc_z      activity\n",
       "count  1.926896e+06  1.926896e+06  1.926896e+06  1.926896e+06  1.926896e+06\n",
       "mean   7.512711e+00  1.987652e+03  2.382523e+03  1.970596e+03  3.882898e+00\n",
       "std    4.172396e+00  1.113578e+02  1.003151e+02  9.445893e+01  2.443402e+00\n",
       "min    1.000000e+00  2.820000e+02  2.000000e+00  1.000000e+00  0.000000e+00\n",
       "25%    4.000000e+00  1.904000e+03  2.337000e+03  1.918000e+03  1.000000e+00\n",
       "50%    7.000000e+00  1.992000e+03  2.367000e+03  1.988000e+03  4.000000e+00\n",
       "75%    1.100000e+01  2.076000e+03  2.413000e+03  2.032000e+03  7.000000e+00\n",
       "max    1.500000e+01  3.828000e+03  4.095000e+03  4.095000e+03  7.000000e+00"
      ]
     },
     "execution_count": 12,
     "metadata": {},
     "output_type": "execute_result"
    }
   ],
   "source": [
    "df.describe() ## dataframe description"
   ]
  },
  {
   "cell_type": "code",
   "execution_count": 13,
   "metadata": {},
   "outputs": [
    {
     "name": "stdout",
     "output_type": "stream",
     "text": [
      "Missing Values \n",
      "   column name  missing_count  missing_percentage\n",
      "0      seq_no              0                 0.0\n",
      "1       acc_x              0                 0.0\n",
      "2       acc_y              0                 0.0\n",
      "3       acc_z              0                 0.0\n",
      "4    activity              0                 0.0\n"
     ]
    }
   ],
   "source": [
    "#Check for missing values\n",
    "def missing_data(df):\n",
    "\n",
    "            rec = []\n",
    "            for column_name in df.columns:\n",
    "                miss_count = df[column_name].isnull().sum(axis=0)\n",
    "                miss_percent=miss_count/df.shape[0]\n",
    "                rec.append([column_name,miss_count,miss_percent*100])\n",
    "                df_stats = pd.DataFrame.from_records(rec, columns = ['column name',\n",
    "                                                                     'missing_count','missing_percentage'])\n",
    "                df_stats = df_stats.sort_values('missing_percentage',axis=0, ascending = False )\n",
    "            return df_stats;\n",
    "\n",
    "df_missing = missing_data(df)\n",
    "\n",
    "print(\"Missing Values \\n\",df_missing)"
   ]
  },
  {
   "cell_type": "markdown",
   "metadata": {},
   "source": [
    "### Histogram"
   ]
  },
  {
   "cell_type": "code",
   "execution_count": 14,
   "metadata": {},
   "outputs": [
    {
     "data": {
      "text/plain": [
       "array([[<matplotlib.axes._subplots.AxesSubplot object at 0x7fe954a97590>,\n",
       "        <matplotlib.axes._subplots.AxesSubplot object at 0x7fe957272190>],\n",
       "       [<matplotlib.axes._subplots.AxesSubplot object at 0x7fe95721e750>,\n",
       "        <matplotlib.axes._subplots.AxesSubplot object at 0x7fe957252090>],\n",
       "       [<matplotlib.axes._subplots.AxesSubplot object at 0x7fe9571f1810>,\n",
       "        <matplotlib.axes._subplots.AxesSubplot object at 0x7fe9571f1850>]],\n",
       "      dtype=object)"
      ]
     },
     "execution_count": 14,
     "metadata": {},
     "output_type": "execute_result"
    },
    {
     "data": {
      "image/png": "[encoded data removed]",
      "text/plain": [
       "<Figure size 1080x1080 with 6 Axes>"
      ]
     },
     "metadata": {
      "needs_background": "light"
     },
     "output_type": "display_data"
    }
   ],
   "source": [
    "df.hist(bins=15,figsize=(15,15)) ## plotting histograms"
   ]
  },
  {
   "cell_type": "markdown",
   "metadata": {},
   "source": [
    "### Scatter plot"
   ]
  },
  {
   "cell_type": "code",
   "execution_count": 15,
   "metadata": {},
   "outputs": [
    {
     "data": {
      "image/png": "[encoded data removed]",
      "text/plain": [
       "<Figure size 1080x576 with 1 Axes>"
      ]
     },
     "metadata": {
      "needs_background": "light"
     },
     "output_type": "display_data"
    }
   ],
   "source": [
    "plt.figure(figsize=(15, 8))\n",
    "xData=df['acc_x']\n",
    "yData=df['activity']\n",
    "plt.title(\"X:acc_x,Y:activity\")\n",
    "plt.xlabel('acc_x')\n",
    "plt.ylabel('activity')\n",
    "plt.scatter(xData, yData)\n",
    "plt.show()"
   ]
  },
  {
   "cell_type": "code",
   "execution_count": 16,
   "metadata": {},
   "outputs": [
    {
     "data": {
      "image/png": "[encoded data removed]",
      "text/plain": [
       "<Figure size 1080x576 with 1 Axes>"
      ]
     },
     "metadata": {
      "needs_background": "light"
     },
     "output_type": "display_data"
    }
   ],
   "source": [
    "plt.figure(figsize=(15, 8))\n",
    "xData=df['acc_y']\n",
    "yData=df['activity']\n",
    "plt.title(\"X:acc_y,Y:activity\")\n",
    "plt.xlabel('acc_y')\n",
    "plt.ylabel('activity')\n",
    "plt.scatter(xData, yData)\n",
    "plt.show()"
   ]
  },
  {
   "cell_type": "code",
   "execution_count": 17,
   "metadata": {},
   "outputs": [
    {
     "data": {
      "image/png": "[encoded data removed]",
      "text/plain": [
       "<Figure size 1080x576 with 1 Axes>"
      ]
     },
     "metadata": {
      "needs_background": "light"
     },
     "output_type": "display_data"
    }
   ],
   "source": [
    "plt.figure(figsize=(15, 8))\n",
    "xData=df['acc_z']\n",
    "yData=df['activity']\n",
    "plt.title(\"X:acc_z,Y:activity\")\n",
    "plt.xlabel('acc_z')\n",
    "plt.ylabel('activity')\n",
    "plt.scatter(xData, yData)\n",
    "plt.show()"
   ]
  },
  {
   "cell_type": "code",
   "execution_count": 18,
   "metadata": {},
   "outputs": [
    {
     "data": {
      "text/plain": [
       "3828"
      ]
     },
     "execution_count": 18,
     "metadata": {},
     "output_type": "execute_result"
    }
   ],
   "source": [
    "df.acc_x.max()"
   ]
  },
  {
   "cell_type": "code",
   "execution_count": 19,
   "metadata": {},
   "outputs": [
    {
     "data": {
      "text/plain": [
       "4095"
      ]
     },
     "execution_count": 19,
     "metadata": {},
     "output_type": "execute_result"
    }
   ],
   "source": [
    "df.acc_y.max()"
   ]
  },
  {
   "cell_type": "code",
   "execution_count": 20,
   "metadata": {},
   "outputs": [
    {
     "data": {
      "text/plain": [
       "4095"
      ]
     },
     "execution_count": 20,
     "metadata": {},
     "output_type": "execute_result"
    }
   ],
   "source": [
    "df.acc_z.max()"
   ]
  },
  {
   "cell_type": "code",
   "execution_count": 21,
   "metadata": {},
   "outputs": [
    {
     "data": {
      "text/plain": [
       "282"
      ]
     },
     "execution_count": 21,
     "metadata": {},
     "output_type": "execute_result"
    }
   ],
   "source": [
    "df.acc_x.min()"
   ]
  },
  {
   "cell_type": "code",
   "execution_count": 22,
   "metadata": {},
   "outputs": [
    {
     "data": {
      "text/plain": [
       "2"
      ]
     },
     "execution_count": 22,
     "metadata": {},
     "output_type": "execute_result"
    }
   ],
   "source": [
    "df.acc_y.min()"
   ]
  },
  {
   "cell_type": "code",
   "execution_count": 23,
   "metadata": {},
   "outputs": [
    {
     "data": {
      "text/plain": [
       "1"
      ]
     },
     "execution_count": 23,
     "metadata": {},
     "output_type": "execute_result"
    }
   ],
   "source": [
    "df.acc_z.min()"
   ]
  },
  {
   "cell_type": "markdown",
   "metadata": {},
   "source": [
    "### Bucketing acc_x,acc_y and acc_z"
   ]
  },
  {
   "cell_type": "code",
   "execution_count": 24,
   "metadata": {},
   "outputs": [],
   "source": [
    "accx_bins=[0,100,200,250,300,700,1000,1500,2000,2400,2800,3400,3600,4000,4500]\n",
    "accx_labels=['0 - 100','100-200', '200-250', '250-300',\n",
    "                        '300-700', '700-1000', '1000-1500','1500-2000','2000-2400','2400-2800','2800-3400','3400-3600','3600-4000','4000+']\n",
    "df['accx_bucket'] = pd.cut(df.acc_x, accx_bins, labels = accx_labels,include_lowest = True)"
   ]
  },
  {
   "cell_type": "code",
   "execution_count": 25,
   "metadata": {},
   "outputs": [],
   "source": [
    "accy_bins=[0,20,50,70,100,200,250,300,700,1000,1500,2000,2400,2800,3400,3600,4000,4500]\n",
    "accy_labels=['0 - 20','20-50','50-70','70-100','100-200', '200-250', '250-300',\n",
    "                        '300-700', '700-1000', '1000-1500','1500-2000','2000-2400','2400-2800','2800-3400','3400-3600','3600-4000','4000+']\n",
    "df['accy_bucket'] = pd.cut(df.acc_y, accy_bins, labels = accy_labels,include_lowest = True)"
   ]
  },
  {
   "cell_type": "code",
   "execution_count": 26,
   "metadata": {},
   "outputs": [],
   "source": [
    "accz_bins=[0,20,50,70,100,200,250,300,700,1000,1500,2000,2400,2800,3400,3600,4000,4500]\n",
    "accz_labels=['0 - 20','20-50','50-70','70-100','100-200', '200-250', '250-300',\n",
    "                        '300-700', '700-1000', '1000-1500','1500-2000','2000-2400','2400-2800','2800-3400','3400-3600','3600-4000','4000+']\n",
    "df['accz_bucket'] = pd.cut(df.acc_z, accz_bins, labels = accz_labels,include_lowest = True)"
   ]
  },
  {
   "cell_type": "code",
   "execution_count": 27,
   "metadata": {},
   "outputs": [
    {
     "data": {
      "text/html": [
       "<div>\n",
       "<style scoped>\n",
       "    .dataframe tbody tr th:only-of-type {\n",
       "        vertical-align: middle;\n",
       "    }\n",
       "\n",
       "    .dataframe tbody tr th {\n",
       "        vertical-align: top;\n",
       "    }\n",
       "\n",
       "    .dataframe thead th {\n",
       "        text-align: right;\n",
       "    }\n",
       "</style>\n",
       "<table border=\"1\" class=\"dataframe\">\n",
       "  <thead>\n",
       "    <tr style=\"text-align: right;\">\n",
       "      <th></th>\n",
       "      <th>seq_no</th>\n",
       "      <th>acc_x</th>\n",
       "      <th>acc_y</th>\n",
       "      <th>acc_z</th>\n",
       "      <th>activity</th>\n",
       "      <th>accx_bucket</th>\n",
       "      <th>accy_bucket</th>\n",
       "      <th>accz_bucket</th>\n",
       "    </tr>\n",
       "  </thead>\n",
       "  <tbody>\n",
       "    <tr>\n",
       "      <th>0</th>\n",
       "      <td>1</td>\n",
       "      <td>1502</td>\n",
       "      <td>2215</td>\n",
       "      <td>2153</td>\n",
       "      <td>1</td>\n",
       "      <td>1500-2000</td>\n",
       "      <td>2000-2400</td>\n",
       "      <td>2000-2400</td>\n",
       "    </tr>\n",
       "    <tr>\n",
       "      <th>1</th>\n",
       "      <td>1</td>\n",
       "      <td>1667</td>\n",
       "      <td>2072</td>\n",
       "      <td>2047</td>\n",
       "      <td>1</td>\n",
       "      <td>1500-2000</td>\n",
       "      <td>2000-2400</td>\n",
       "      <td>2000-2400</td>\n",
       "    </tr>\n",
       "    <tr>\n",
       "      <th>2</th>\n",
       "      <td>1</td>\n",
       "      <td>1611</td>\n",
       "      <td>1957</td>\n",
       "      <td>1906</td>\n",
       "      <td>1</td>\n",
       "      <td>1500-2000</td>\n",
       "      <td>1500-2000</td>\n",
       "      <td>1500-2000</td>\n",
       "    </tr>\n",
       "    <tr>\n",
       "      <th>3</th>\n",
       "      <td>1</td>\n",
       "      <td>1601</td>\n",
       "      <td>1939</td>\n",
       "      <td>1831</td>\n",
       "      <td>1</td>\n",
       "      <td>1500-2000</td>\n",
       "      <td>1500-2000</td>\n",
       "      <td>1500-2000</td>\n",
       "    </tr>\n",
       "    <tr>\n",
       "      <th>4</th>\n",
       "      <td>1</td>\n",
       "      <td>1643</td>\n",
       "      <td>1965</td>\n",
       "      <td>1879</td>\n",
       "      <td>1</td>\n",
       "      <td>1500-2000</td>\n",
       "      <td>1500-2000</td>\n",
       "      <td>1500-2000</td>\n",
       "    </tr>\n",
       "  </tbody>\n",
       "</table>\n",
       "</div>"
      ],
      "text/plain": [
       "   seq_no  acc_x  acc_y  acc_z  activity accx_bucket accy_bucket accz_bucket\n",
       "0       1   1502   2215   2153         1   1500-2000   2000-2400   2000-2400\n",
       "1       1   1667   2072   2047         1   1500-2000   2000-2400   2000-2400\n",
       "2       1   1611   1957   1906         1   1500-2000   1500-2000   1500-2000\n",
       "3       1   1601   1939   1831         1   1500-2000   1500-2000   1500-2000\n",
       "4       1   1643   1965   1879         1   1500-2000   1500-2000   1500-2000"
      ]
     },
     "execution_count": 27,
     "metadata": {},
     "output_type": "execute_result"
    }
   ],
   "source": [
    "df.head()"
   ]
  },
  {
   "cell_type": "code",
   "execution_count": 28,
   "metadata": {},
   "outputs": [
    {
     "data": {
      "text/plain": [
       "1500-2000    997559\n",
       "2000-2400    928762\n",
       "2400-2800       372\n",
       "1000-1500       122\n",
       "2800-3400        41\n",
       "300-700          16\n",
       "700-1000         11\n",
       "3600-4000         7\n",
       "3400-3600         5\n",
       "250-300           1\n",
       "4000+             0\n",
       "200-250           0\n",
       "100-200           0\n",
       "0 - 100           0\n",
       "Name: accx_bucket, dtype: int64"
      ]
     },
     "execution_count": 28,
     "metadata": {},
     "output_type": "execute_result"
    }
   ],
   "source": [
    "df.accx_bucket.value_counts()"
   ]
  },
  {
   "cell_type": "code",
   "execution_count": 29,
   "metadata": {},
   "outputs": [
    {
     "data": {
      "text/plain": [
       "2000-2400    1396256\n",
       "2400-2800     521244\n",
       "1500-2000       8614\n",
       "2800-3400        674\n",
       "1000-1500         35\n",
       "3600-4000         18\n",
       "4000+             13\n",
       "300-700           13\n",
       "0 - 20            10\n",
       "3400-3600          8\n",
       "700-1000           8\n",
       "200-250            1\n",
       "100-200            1\n",
       "70-100             1\n",
       "250-300            0\n",
       "50-70              0\n",
       "20-50              0\n",
       "Name: accy_bucket, dtype: int64"
      ]
     },
     "execution_count": 29,
     "metadata": {},
     "output_type": "execute_result"
    }
   ],
   "source": [
    "df.accy_bucket.value_counts()"
   ]
  },
  {
   "cell_type": "code",
   "execution_count": 55,
   "metadata": {},
   "outputs": [
    {
     "data": {
      "text/plain": [
       "1500-2000    1104889\n",
       "2000-2400     821624\n",
       "1000-1500        145\n",
       "2400-2800        126\n",
       "2800-3400         34\n",
       "0 - 20            18\n",
       "300-700           16\n",
       "700-1000          13\n",
       "4000+              9\n",
       "3600-4000          7\n",
       "3400-3600          7\n",
       "100-200            5\n",
       "200-250            1\n",
       "50-70              1\n",
       "20-50              1\n",
       "250-300            0\n",
       "70-100             0\n",
       "Name: accz_bucket, dtype: int64"
      ]
     },
     "execution_count": 55,
     "metadata": {},
     "output_type": "execute_result"
    }
   ],
   "source": [
    "df.accz_bucket.value_counts()"
   ]
  },
  {
   "cell_type": "markdown",
   "metadata": {},
   "source": [
    "### Categorical encoding"
   ]
  },
  {
   "cell_type": "code",
   "execution_count": 56,
   "metadata": {},
   "outputs": [],
   "source": [
    "df_cat=df[['accx_bucket','accy_bucket','accz_bucket','activity']]"
   ]
  },
  {
   "cell_type": "code",
   "execution_count": 57,
   "metadata": {},
   "outputs": [
    {
     "name": "stderr",
     "output_type": "stream",
     "text": [
      "/home/revathis/anaconda3/lib/python3.7/site-packages/ipykernel_launcher.py:2: SettingWithCopyWarning: \n",
      "A value is trying to be set on a copy of a slice from a DataFrame.\n",
      "Try using .loc[row_indexer,col_indexer] = value instead\n",
      "\n",
      "See the caveats in the documentation: http://pandas.pydata.org/pandas-docs/stable/user_guide/indexing.html#returning-a-view-versus-a-copy\n",
      "  \n",
      "/home/revathis/anaconda3/lib/python3.7/site-packages/ipykernel_launcher.py:3: SettingWithCopyWarning: \n",
      "A value is trying to be set on a copy of a slice from a DataFrame.\n",
      "Try using .loc[row_indexer,col_indexer] = value instead\n",
      "\n",
      "See the caveats in the documentation: http://pandas.pydata.org/pandas-docs/stable/user_guide/indexing.html#returning-a-view-versus-a-copy\n",
      "  This is separate from the ipykernel package so we can avoid doing imports until\n"
     ]
    }
   ],
   "source": [
    "for col in df_cat.columns:\n",
    "    df_cat[col] = df_cat[col].astype('category')\n",
    "    df_cat[col] = df_cat[col].cat.add_categories('Unknown')\n",
    "    df_cat[col].fillna('Unknown', inplace =True)"
   ]
  },
  {
   "cell_type": "code",
   "execution_count": 76,
   "metadata": {},
   "outputs": [],
   "source": [
    "df_final=df[['accx_bucket','accy_bucket','accz_bucket','activity']]"
   ]
  },
  {
   "cell_type": "code",
   "execution_count": 77,
   "metadata": {},
   "outputs": [
    {
     "name": "stdout",
     "output_type": "stream",
     "text": [
      "df_cat.columns Index(['accx_bucket', 'accy_bucket', 'accz_bucket', 'activity'], dtype='object')\n",
      "df_cat[col] 0         1500-2000\n",
      "1         1500-2000\n",
      "2         1500-2000\n",
      "3         1500-2000\n",
      "4         1500-2000\n",
      "            ...    \n",
      "103496    2000-2400\n",
      "103497    2000-2400\n",
      "103498    2000-2400\n",
      "103499    2000-2400\n",
      "103500    1500-2000\n",
      "Name: accx_bucket, Length: 1926896, dtype: category\n",
      "Categories (15, object): [0 - 100 < 100-200 < 200-250 < 250-300 ... 3400-3600 < 3600-4000 < 4000+ < Unknown]\n",
      "done [1 1 1 ... 2 2 1]\n",
      "Encoder----> {'accx_bucket': {'1500-2000': 1, '1000-1500': 0, '2000-2400': 2, '2400-2800': 3, '2800-3400': 5, '3400-3600': 7, '3600-4000': 8, '700-1000': 9, '300-700': 6, '250-300': 4}}\n",
      "df_cat[col] 0         2000-2400\n",
      "1         2000-2400\n",
      "2         1500-2000\n",
      "3         1500-2000\n",
      "4         1500-2000\n",
      "            ...    \n",
      "103496    2400-2800\n",
      "103497    2400-2800\n",
      "103498    2400-2800\n",
      "103499    2400-2800\n",
      "103500    2400-2800\n",
      "Name: accy_bucket, Length: 1926896, dtype: category\n",
      "Categories (18, object): [0 - 20 < 20-50 < 50-70 < 70-100 ... 3400-3600 < 3600-4000 < 4000+ < Unknown]\n",
      "done [5 5 3 ... 6 6 6]\n",
      "Encoder----> {'accx_bucket': {'1500-2000': 1, '1000-1500': 0, '2000-2400': 2, '2400-2800': 3, '2800-3400': 5, '3400-3600': 7, '3600-4000': 8, '700-1000': 9, '300-700': 6, '250-300': 4}, 'accy_bucket': {'2000-2400': 5, '1500-2000': 3, '2400-2800': 6, '1000-1500': 2, '2800-3400': 7, '0 - 20': 0, '3600-4000': 10, '4000+': 11, '700-1000': 13, '300-700': 8, '3400-3600': 9, '100-200': 1, '200-250': 4, '70-100': 12}}\n",
      "df_cat[col] 0         2000-2400\n",
      "1         2000-2400\n",
      "2         1500-2000\n",
      "3         1500-2000\n",
      "4         1500-2000\n",
      "            ...    \n",
      "103496    1500-2000\n",
      "103497    1500-2000\n",
      "103498    1500-2000\n",
      "103499    2000-2400\n",
      "103500    1500-2000\n",
      "Name: accz_bucket, Length: 1926896, dtype: category\n",
      "Categories (18, object): [0 - 20 < 20-50 < 50-70 < 70-100 ... 3400-3600 < 3600-4000 < 4000+ < Unknown]\n",
      "done [6 6 3 ... 3 6 3]\n",
      "Encoder----> {'accx_bucket': {'1500-2000': 1, '1000-1500': 0, '2000-2400': 2, '2400-2800': 3, '2800-3400': 5, '3400-3600': 7, '3600-4000': 8, '700-1000': 9, '300-700': 6, '250-300': 4}, 'accy_bucket': {'2000-2400': 5, '1500-2000': 3, '2400-2800': 6, '1000-1500': 2, '2800-3400': 7, '0 - 20': 0, '3600-4000': 10, '4000+': 11, '700-1000': 13, '300-700': 8, '3400-3600': 9, '100-200': 1, '200-250': 4, '70-100': 12}, 'accz_bucket': {'2000-2400': 6, '1500-2000': 3, '2400-2800': 7, '1000-1500': 2, '2800-3400': 8, '3600-4000': 11, '3400-3600': 10, '200-250': 5, '0 - 20': 0, '4000+': 12, '700-1000': 14, '100-200': 1, '300-700': 9, '20-50': 4, '50-70': 13}}\n",
      "df_cat[col] 0         1\n",
      "1         1\n",
      "2         1\n",
      "3         1\n",
      "4         1\n",
      "         ..\n",
      "103496    7\n",
      "103497    7\n",
      "103498    7\n",
      "103499    7\n",
      "103500    0\n",
      "Name: activity, Length: 1926896, dtype: category\n",
      "Categories (9, object): [0, 1, 2, 3, ..., 5, 6, 7, Unknown]\n",
      "done [1 1 1 ... 7 7 0]\n",
      "Encoder----> {'accx_bucket': {'1500-2000': 1, '1000-1500': 0, '2000-2400': 2, '2400-2800': 3, '2800-3400': 5, '3400-3600': 7, '3600-4000': 8, '700-1000': 9, '300-700': 6, '250-300': 4}, 'accy_bucket': {'2000-2400': 5, '1500-2000': 3, '2400-2800': 6, '1000-1500': 2, '2800-3400': 7, '0 - 20': 0, '3600-4000': 10, '4000+': 11, '700-1000': 13, '300-700': 8, '3400-3600': 9, '100-200': 1, '200-250': 4, '70-100': 12}, 'accz_bucket': {'2000-2400': 6, '1500-2000': 3, '2400-2800': 7, '1000-1500': 2, '2800-3400': 8, '3600-4000': 11, '3400-3600': 10, '200-250': 5, '0 - 20': 0, '4000+': 12, '700-1000': 14, '100-200': 1, '300-700': 9, '20-50': 4, '50-70': 13}, 'activity': {1: 1, 2: 2, 3: 3, 4: 4, 5: 5, 6: 6, 7: 7, 0: 0}}\n"
     ]
    },
    {
     "name": "stderr",
     "output_type": "stream",
     "text": [
      "/home/revathis/anaconda3/lib/python3.7/site-packages/ipykernel_launcher.py:25: SettingWithCopyWarning: \n",
      "A value is trying to be set on a copy of a slice from a DataFrame.\n",
      "Try using .loc[row_indexer,col_indexer] = value instead\n",
      "\n",
      "See the caveats in the documentation: http://pandas.pydata.org/pandas-docs/stable/user_guide/indexing.html#returning-a-view-versus-a-copy\n"
     ]
    }
   ],
   "source": [
    "le = LabelEncoder()\n",
    "# df_cat_encoded = df_prod_cat.apply(le.fit_transform)\n",
    "# print (\"before encoding \\n\",df_final.head)\n",
    "\n",
    "print('df_cat.columns',df_cat.columns)\n",
    "\n",
    "\n",
    "dict_all = dict(zip([], []))\n",
    "for col in df_cat.columns:\n",
    "    temp_keys = df_cat[col].values\n",
    "\n",
    "    print('df_cat[col]',df_cat[col])\n",
    "    temp_values = le.fit_transform(df_cat[col])\n",
    "    print(\"done\",temp_values)\n",
    "    dict_temp = dict(zip(temp_keys, temp_values))\n",
    "    dict_all[col] = dict_temp\n",
    "    print(\"Encoder---->\",dict_all)\n",
    "\n",
    "##Label mapping for final table##################\n",
    "for col in df_cat.columns:\n",
    "    df_final.replace(dict_all[col], inplace=True)\n",
    "\n",
    "pickle.dump(dict_all, open(\"dict_all.obj\", 'wb'))\n",
    "for col in df_final.columns:\n",
    "    df_final[col] = pd.to_numeric(df_final[col])"
   ]
  },
  {
   "cell_type": "code",
   "execution_count": 78,
   "metadata": {},
   "outputs": [
    {
     "data": {
      "text/html": [
       "<div>\n",
       "<style scoped>\n",
       "    .dataframe tbody tr th:only-of-type {\n",
       "        vertical-align: middle;\n",
       "    }\n",
       "\n",
       "    .dataframe tbody tr th {\n",
       "        vertical-align: top;\n",
       "    }\n",
       "\n",
       "    .dataframe thead th {\n",
       "        text-align: right;\n",
       "    }\n",
       "</style>\n",
       "<table border=\"1\" class=\"dataframe\">\n",
       "  <thead>\n",
       "    <tr style=\"text-align: right;\">\n",
       "      <th></th>\n",
       "      <th>accx_bucket</th>\n",
       "      <th>accy_bucket</th>\n",
       "      <th>accz_bucket</th>\n",
       "      <th>activity</th>\n",
       "    </tr>\n",
       "  </thead>\n",
       "  <tbody>\n",
       "    <tr>\n",
       "      <th>0</th>\n",
       "      <td>1</td>\n",
       "      <td>2</td>\n",
       "      <td>2</td>\n",
       "      <td>1</td>\n",
       "    </tr>\n",
       "    <tr>\n",
       "      <th>1</th>\n",
       "      <td>1</td>\n",
       "      <td>2</td>\n",
       "      <td>2</td>\n",
       "      <td>1</td>\n",
       "    </tr>\n",
       "    <tr>\n",
       "      <th>2</th>\n",
       "      <td>1</td>\n",
       "      <td>1</td>\n",
       "      <td>1</td>\n",
       "      <td>1</td>\n",
       "    </tr>\n",
       "    <tr>\n",
       "      <th>3</th>\n",
       "      <td>1</td>\n",
       "      <td>1</td>\n",
       "      <td>1</td>\n",
       "      <td>1</td>\n",
       "    </tr>\n",
       "    <tr>\n",
       "      <th>4</th>\n",
       "      <td>1</td>\n",
       "      <td>1</td>\n",
       "      <td>1</td>\n",
       "      <td>1</td>\n",
       "    </tr>\n",
       "  </tbody>\n",
       "</table>\n",
       "</div>"
      ],
      "text/plain": [
       "   accx_bucket  accy_bucket  accz_bucket  activity\n",
       "0            1            2            2         1\n",
       "1            1            2            2         1\n",
       "2            1            1            1         1\n",
       "3            1            1            1         1\n",
       "4            1            1            1         1"
      ]
     },
     "execution_count": 78,
     "metadata": {},
     "output_type": "execute_result"
    }
   ],
   "source": [
    "df_final.head()"
   ]
  },
  {
   "cell_type": "code",
   "execution_count": 79,
   "metadata": {},
   "outputs": [
    {
     "data": {
      "text/html": [
       "<div>\n",
       "<style scoped>\n",
       "    .dataframe tbody tr th:only-of-type {\n",
       "        vertical-align: middle;\n",
       "    }\n",
       "\n",
       "    .dataframe tbody tr th {\n",
       "        vertical-align: top;\n",
       "    }\n",
       "\n",
       "    .dataframe thead th {\n",
       "        text-align: right;\n",
       "    }\n",
       "</style>\n",
       "<table border=\"1\" class=\"dataframe\">\n",
       "  <thead>\n",
       "    <tr style=\"text-align: right;\">\n",
       "      <th></th>\n",
       "      <th>accx_bucket</th>\n",
       "      <th>accy_bucket</th>\n",
       "      <th>accz_bucket</th>\n",
       "      <th>activity</th>\n",
       "    </tr>\n",
       "  </thead>\n",
       "  <tbody>\n",
       "    <tr>\n",
       "      <th>accx_bucket</th>\n",
       "      <td>1.000000</td>\n",
       "      <td>0.437670</td>\n",
       "      <td>0.110162</td>\n",
       "      <td>0.160989</td>\n",
       "    </tr>\n",
       "    <tr>\n",
       "      <th>accy_bucket</th>\n",
       "      <td>0.437670</td>\n",
       "      <td>1.000000</td>\n",
       "      <td>0.213582</td>\n",
       "      <td>0.030368</td>\n",
       "    </tr>\n",
       "    <tr>\n",
       "      <th>accz_bucket</th>\n",
       "      <td>0.110162</td>\n",
       "      <td>0.213582</td>\n",
       "      <td>1.000000</td>\n",
       "      <td>-0.156218</td>\n",
       "    </tr>\n",
       "    <tr>\n",
       "      <th>activity</th>\n",
       "      <td>0.160989</td>\n",
       "      <td>0.030368</td>\n",
       "      <td>-0.156218</td>\n",
       "      <td>1.000000</td>\n",
       "    </tr>\n",
       "  </tbody>\n",
       "</table>\n",
       "</div>"
      ],
      "text/plain": [
       "             accx_bucket  accy_bucket  accz_bucket  activity\n",
       "accx_bucket     1.000000     0.437670     0.110162  0.160989\n",
       "accy_bucket     0.437670     1.000000     0.213582  0.030368\n",
       "accz_bucket     0.110162     0.213582     1.000000 -0.156218\n",
       "activity        0.160989     0.030368    -0.156218  1.000000"
      ]
     },
     "execution_count": 79,
     "metadata": {},
     "output_type": "execute_result"
    }
   ],
   "source": [
    "df_final.corr() ## Correlation matrix"
   ]
  },
  {
   "cell_type": "code",
   "execution_count": 80,
   "metadata": {},
   "outputs": [
    {
     "name": "stderr",
     "output_type": "stream",
     "text": [
      "/home/revathis/anaconda3/lib/python3.7/site-packages/ipykernel_launcher.py:1: SettingWithCopyWarning: \n",
      "A value is trying to be set on a copy of a slice from a DataFrame.\n",
      "Try using .loc[row_indexer,col_indexer] = value instead\n",
      "\n",
      "See the caveats in the documentation: http://pandas.pydata.org/pandas-docs/stable/user_guide/indexing.html#returning-a-view-versus-a-copy\n",
      "  \"\"\"Entry point for launching an IPython kernel.\n"
     ]
    }
   ],
   "source": [
    "df_final['seq_no']=df['seq_no']"
   ]
  },
  {
   "cell_type": "code",
   "execution_count": 81,
   "metadata": {},
   "outputs": [
    {
     "data": {
      "text/html": [
       "<div>\n",
       "<style scoped>\n",
       "    .dataframe tbody tr th:only-of-type {\n",
       "        vertical-align: middle;\n",
       "    }\n",
       "\n",
       "    .dataframe tbody tr th {\n",
       "        vertical-align: top;\n",
       "    }\n",
       "\n",
       "    .dataframe thead th {\n",
       "        text-align: right;\n",
       "    }\n",
       "</style>\n",
       "<table border=\"1\" class=\"dataframe\">\n",
       "  <thead>\n",
       "    <tr style=\"text-align: right;\">\n",
       "      <th></th>\n",
       "      <th>accx_bucket</th>\n",
       "      <th>accy_bucket</th>\n",
       "      <th>accz_bucket</th>\n",
       "      <th>activity</th>\n",
       "      <th>seq_no</th>\n",
       "    </tr>\n",
       "  </thead>\n",
       "  <tbody>\n",
       "    <tr>\n",
       "      <th>0</th>\n",
       "      <td>1</td>\n",
       "      <td>2</td>\n",
       "      <td>2</td>\n",
       "      <td>1</td>\n",
       "      <td>1</td>\n",
       "    </tr>\n",
       "    <tr>\n",
       "      <th>1</th>\n",
       "      <td>1</td>\n",
       "      <td>2</td>\n",
       "      <td>2</td>\n",
       "      <td>1</td>\n",
       "      <td>1</td>\n",
       "    </tr>\n",
       "    <tr>\n",
       "      <th>2</th>\n",
       "      <td>1</td>\n",
       "      <td>1</td>\n",
       "      <td>1</td>\n",
       "      <td>1</td>\n",
       "      <td>1</td>\n",
       "    </tr>\n",
       "    <tr>\n",
       "      <th>3</th>\n",
       "      <td>1</td>\n",
       "      <td>1</td>\n",
       "      <td>1</td>\n",
       "      <td>1</td>\n",
       "      <td>1</td>\n",
       "    </tr>\n",
       "    <tr>\n",
       "      <th>4</th>\n",
       "      <td>1</td>\n",
       "      <td>1</td>\n",
       "      <td>1</td>\n",
       "      <td>1</td>\n",
       "      <td>1</td>\n",
       "    </tr>\n",
       "  </tbody>\n",
       "</table>\n",
       "</div>"
      ],
      "text/plain": [
       "   accx_bucket  accy_bucket  accz_bucket  activity  seq_no\n",
       "0            1            2            2         1       1\n",
       "1            1            2            2         1       1\n",
       "2            1            1            1         1       1\n",
       "3            1            1            1         1       1\n",
       "4            1            1            1         1       1"
      ]
     },
     "execution_count": 81,
     "metadata": {},
     "output_type": "execute_result"
    }
   ],
   "source": [
    "df_final.head()"
   ]
  },
  {
   "cell_type": "code",
   "execution_count": 82,
   "metadata": {},
   "outputs": [],
   "source": [
    "df_final = df_final[df_final.activity != 0]"
   ]
  },
  {
   "cell_type": "code",
   "execution_count": 83,
   "metadata": {},
   "outputs": [],
   "source": [
    "df_model=df_final.drop(['seq_no'],axis=1)"
   ]
  },
  {
   "cell_type": "code",
   "execution_count": 84,
   "metadata": {},
   "outputs": [],
   "source": [
    "## feature matrix and target variable\n",
    "X=df_model[['accx_bucket','accy_bucket','accz_bucket']]\n",
    "y=df_model['activity']"
   ]
  },
  {
   "cell_type": "code",
   "execution_count": 85,
   "metadata": {},
   "outputs": [
    {
     "data": {
      "text/html": [
       "<div>\n",
       "<style scoped>\n",
       "    .dataframe tbody tr th:only-of-type {\n",
       "        vertical-align: middle;\n",
       "    }\n",
       "\n",
       "    .dataframe tbody tr th {\n",
       "        vertical-align: top;\n",
       "    }\n",
       "\n",
       "    .dataframe thead th {\n",
       "        text-align: right;\n",
       "    }\n",
       "</style>\n",
       "<table border=\"1\" class=\"dataframe\">\n",
       "  <thead>\n",
       "    <tr style=\"text-align: right;\">\n",
       "      <th></th>\n",
       "      <th>1</th>\n",
       "      <th>2</th>\n",
       "      <th>3</th>\n",
       "      <th>4</th>\n",
       "      <th>5</th>\n",
       "      <th>6</th>\n",
       "      <th>7</th>\n",
       "    </tr>\n",
       "  </thead>\n",
       "  <tbody>\n",
       "    <tr>\n",
       "      <th>0</th>\n",
       "      <td>1</td>\n",
       "      <td>0</td>\n",
       "      <td>0</td>\n",
       "      <td>0</td>\n",
       "      <td>0</td>\n",
       "      <td>0</td>\n",
       "      <td>0</td>\n",
       "    </tr>\n",
       "    <tr>\n",
       "      <th>1</th>\n",
       "      <td>1</td>\n",
       "      <td>0</td>\n",
       "      <td>0</td>\n",
       "      <td>0</td>\n",
       "      <td>0</td>\n",
       "      <td>0</td>\n",
       "      <td>0</td>\n",
       "    </tr>\n",
       "    <tr>\n",
       "      <th>2</th>\n",
       "      <td>1</td>\n",
       "      <td>0</td>\n",
       "      <td>0</td>\n",
       "      <td>0</td>\n",
       "      <td>0</td>\n",
       "      <td>0</td>\n",
       "      <td>0</td>\n",
       "    </tr>\n",
       "    <tr>\n",
       "      <th>3</th>\n",
       "      <td>1</td>\n",
       "      <td>0</td>\n",
       "      <td>0</td>\n",
       "      <td>0</td>\n",
       "      <td>0</td>\n",
       "      <td>0</td>\n",
       "      <td>0</td>\n",
       "    </tr>\n",
       "    <tr>\n",
       "      <th>4</th>\n",
       "      <td>1</td>\n",
       "      <td>0</td>\n",
       "      <td>0</td>\n",
       "      <td>0</td>\n",
       "      <td>0</td>\n",
       "      <td>0</td>\n",
       "      <td>0</td>\n",
       "    </tr>\n",
       "  </tbody>\n",
       "</table>\n",
       "</div>"
      ],
      "text/plain": [
       "   1  2  3  4  5  6  7\n",
       "0  1  0  0  0  0  0  0\n",
       "1  1  0  0  0  0  0  0\n",
       "2  1  0  0  0  0  0  0\n",
       "3  1  0  0  0  0  0  0\n",
       "4  1  0  0  0  0  0  0"
      ]
     },
     "execution_count": 85,
     "metadata": {},
     "output_type": "execute_result"
    }
   ],
   "source": [
    "df_processed = pd.get_dummies(df_model['activity'])\n",
    "df_processed.head()"
   ]
  },
  {
   "cell_type": "code",
   "execution_count": 86,
   "metadata": {},
   "outputs": [],
   "source": [
    "## each activity as class\n",
    "df_final['Working at Computer'] = df_processed[1]\n",
    "df_final['Standing Up, Walking and Going up\\down stairs'] = df_processed[2]\n",
    "df_final['Standing'] = df_processed[3]\n",
    "df_final['Walking'] = df_processed[4]\n",
    "df_final['Going Up\\Down Stairs'] = df_processed[5]\n",
    "df_final['Walking and Talking with Someone'] = df_processed[6]\n",
    "df_final['Talking while Standing'] = df_processed[7]"
   ]
  },
  {
   "cell_type": "code",
   "execution_count": 90,
   "metadata": {},
   "outputs": [
    {
     "data": {
      "text/html": [
       "<div>\n",
       "<style scoped>\n",
       "    .dataframe tbody tr th:only-of-type {\n",
       "        vertical-align: middle;\n",
       "    }\n",
       "\n",
       "    .dataframe tbody tr th {\n",
       "        vertical-align: top;\n",
       "    }\n",
       "\n",
       "    .dataframe thead th {\n",
       "        text-align: right;\n",
       "    }\n",
       "</style>\n",
       "<table border=\"1\" class=\"dataframe\">\n",
       "  <thead>\n",
       "    <tr style=\"text-align: right;\">\n",
       "      <th></th>\n",
       "      <th>accx_bucket</th>\n",
       "      <th>accy_bucket</th>\n",
       "      <th>accz_bucket</th>\n",
       "      <th>activity</th>\n",
       "      <th>seq_no</th>\n",
       "      <th>Working at Computer</th>\n",
       "      <th>Standing Up, Walking and Going up\\down stairs</th>\n",
       "      <th>Standing</th>\n",
       "      <th>Walking</th>\n",
       "      <th>Going Up\\Down Stairs</th>\n",
       "      <th>Walking and Talking with Someone</th>\n",
       "      <th>Talking while Standing</th>\n",
       "    </tr>\n",
       "  </thead>\n",
       "  <tbody>\n",
       "    <tr>\n",
       "      <th>0</th>\n",
       "      <td>1</td>\n",
       "      <td>2</td>\n",
       "      <td>2</td>\n",
       "      <td>1</td>\n",
       "      <td>1</td>\n",
       "      <td>1</td>\n",
       "      <td>0</td>\n",
       "      <td>0</td>\n",
       "      <td>0</td>\n",
       "      <td>0</td>\n",
       "      <td>0</td>\n",
       "      <td>0</td>\n",
       "    </tr>\n",
       "    <tr>\n",
       "      <th>1</th>\n",
       "      <td>1</td>\n",
       "      <td>2</td>\n",
       "      <td>2</td>\n",
       "      <td>1</td>\n",
       "      <td>1</td>\n",
       "      <td>1</td>\n",
       "      <td>0</td>\n",
       "      <td>0</td>\n",
       "      <td>0</td>\n",
       "      <td>0</td>\n",
       "      <td>0</td>\n",
       "      <td>0</td>\n",
       "    </tr>\n",
       "    <tr>\n",
       "      <th>2</th>\n",
       "      <td>1</td>\n",
       "      <td>1</td>\n",
       "      <td>1</td>\n",
       "      <td>1</td>\n",
       "      <td>1</td>\n",
       "      <td>1</td>\n",
       "      <td>0</td>\n",
       "      <td>0</td>\n",
       "      <td>0</td>\n",
       "      <td>0</td>\n",
       "      <td>0</td>\n",
       "      <td>0</td>\n",
       "    </tr>\n",
       "    <tr>\n",
       "      <th>3</th>\n",
       "      <td>1</td>\n",
       "      <td>1</td>\n",
       "      <td>1</td>\n",
       "      <td>1</td>\n",
       "      <td>1</td>\n",
       "      <td>1</td>\n",
       "      <td>0</td>\n",
       "      <td>0</td>\n",
       "      <td>0</td>\n",
       "      <td>0</td>\n",
       "      <td>0</td>\n",
       "      <td>0</td>\n",
       "    </tr>\n",
       "    <tr>\n",
       "      <th>4</th>\n",
       "      <td>1</td>\n",
       "      <td>1</td>\n",
       "      <td>1</td>\n",
       "      <td>1</td>\n",
       "      <td>1</td>\n",
       "      <td>1</td>\n",
       "      <td>0</td>\n",
       "      <td>0</td>\n",
       "      <td>0</td>\n",
       "      <td>0</td>\n",
       "      <td>0</td>\n",
       "      <td>0</td>\n",
       "    </tr>\n",
       "  </tbody>\n",
       "</table>\n",
       "</div>"
      ],
      "text/plain": [
       "   accx_bucket  accy_bucket  accz_bucket  activity  seq_no  \\\n",
       "0            1            2            2         1       1   \n",
       "1            1            2            2         1       1   \n",
       "2            1            1            1         1       1   \n",
       "3            1            1            1         1       1   \n",
       "4            1            1            1         1       1   \n",
       "\n",
       "   Working at Computer  Standing Up, Walking and Going up\\down stairs  \\\n",
       "0                    1                                              0   \n",
       "1                    1                                              0   \n",
       "2                    1                                              0   \n",
       "3                    1                                              0   \n",
       "4                    1                                              0   \n",
       "\n",
       "   Standing  Walking  Going Up\\Down Stairs  Walking and Talking with Someone  \\\n",
       "0         0        0                     0                                 0   \n",
       "1         0        0                     0                                 0   \n",
       "2         0        0                     0                                 0   \n",
       "3         0        0                     0                                 0   \n",
       "4         0        0                     0                                 0   \n",
       "\n",
       "   Talking while Standing  \n",
       "0                       0  \n",
       "1                       0  \n",
       "2                       0  \n",
       "3                       0  \n",
       "4                       0  "
      ]
     },
     "execution_count": 90,
     "metadata": {},
     "output_type": "execute_result"
    }
   ],
   "source": [
    "df_final.head()"
   ]
  },
  {
   "cell_type": "code",
   "execution_count": 92,
   "metadata": {},
   "outputs": [],
   "source": [
    "X_var=X"
   ]
  },
  {
   "cell_type": "markdown",
   "metadata": {},
   "source": [
    "### Modeling: Activity 1"
   ]
  },
  {
   "cell_type": "code",
   "execution_count": 93,
   "metadata": {},
   "outputs": [
    {
     "name": "stdout",
     "output_type": "stream",
     "text": [
      "Value Counts 0    1314510\n",
      "1     608667\n",
      "Name: Working at Computer, dtype: int64\n",
      "Before OverSampling, counts of label '1': 547940\n",
      "Before OverSampling, counts of label '0': 1182919 \n",
      "\n",
      "After OverSampling, the shape of train_X: (2365838, 3)\n",
      "After OverSampling, the shape of train_y: (2365838,) \n",
      "\n",
      "After OverSampling, counts of label '1': 1182919\n",
      "After OverSampling, counts of label '0': 1182919\n"
     ]
    }
   ],
   "source": [
    "y_prod1 =df_final['Working at Computer']\n",
    "\n",
    "print(\"Value Counts\",y_prod1.value_counts())\n",
    "X_train_1,X_test_1,y_train_1,y_test_1=train_test_split(X_var,y_prod1,test_size=0.10,random_state=0)\n",
    "\n",
    "print(\"Before OverSampling, counts of label '1': {}\".format(sum(y_train_1 == 1)))\n",
    "print(\"Before OverSampling, counts of label '0': {} \\n\".format(sum(y_train_1 == 0)))\n",
    "sm = RandomOverSampler(random_state = 30)\n",
    "X_train_prod1, y_train_prod1 = sm.fit_sample(X_train_1, y_train_1.ravel())\n",
    "\n",
    "\n",
    "print('After OverSampling, the shape of train_X: {}'.format(X_train_prod1.shape))\n",
    "print('After OverSampling, the shape of train_y: {} \\n'.format(y_train_prod1.shape))\n",
    "\n",
    "print(\"After OverSampling, counts of label '1': {}\".format(sum(y_train_prod1 == 1)))\n",
    "print(\"After OverSampling, counts of label '0': {}\".format(sum(y_train_prod1 == 0)))"
   ]
  },
  {
   "cell_type": "code",
   "execution_count": 98,
   "metadata": {},
   "outputs": [
    {
     "name": "stdout",
     "output_type": "stream",
     "text": [
      "\n",
      " Accuracy:  0.7170363668507368\n"
     ]
    }
   ],
   "source": [
    "xgb = XGBClassifier(objective ='multi:softprob', learning_rate = 0.2,num_class=2)\n",
    "model_xgb=xgb.fit(X_train_1, y_train_1)\n",
    "prediction_xgb= model_xgb.predict(X_test_1)\n",
    "print('\\n Accuracy: ',accuracy_score(y_test_1, prediction_xgb))        "
   ]
  },
  {
   "cell_type": "markdown",
   "metadata": {},
   "source": [
    "### Modeling: Activity 2"
   ]
  },
  {
   "cell_type": "code",
   "execution_count": 99,
   "metadata": {},
   "outputs": [
    {
     "name": "stdout",
     "output_type": "stream",
     "text": [
      "Value Counts 0    1875299\n",
      "1      47878\n",
      "Name: Standing Up, Walking and Going up\\down stairs, dtype: int64\n",
      "Before OverSampling, counts of label '2': 38305\n",
      "Before OverSampling, counts of label '0': 1500236 \n",
      "\n",
      "After OverSampling, the shape of train_X: (3000472, 3)\n",
      "After OverSampling, the shape of train_y: (3000472,) \n",
      "\n",
      "After OverSampling, counts of label '2': 1500236\n",
      "After OverSampling, counts of label '0': 1500236\n"
     ]
    }
   ],
   "source": [
    "y_prod2 =df_final['Standing Up, Walking and Going up\\down stairs']\n",
    "\n",
    "print(\"Value Counts\",y_prod2.value_counts())\n",
    "\n",
    "X_train_2,X_test_2,y_train_2,y_test_2=train_test_split(X_var,y_prod2,test_size=0.20,random_state=0)\n",
    "\n",
    "print(\"Before OverSampling, counts of label '2': {}\".format(sum(y_train_2 == 1)))\n",
    "print(\"Before OverSampling, counts of label '0': {} \\n\".format(sum(y_train_2 == 0)))\n",
    "\n",
    "sm = RandomOverSampler(random_state = 3)\n",
    "X_train_prod2, y_train_prod2 = sm.fit_sample(X_train_2, y_train_2.ravel())\n",
    "\n",
    "print('After OverSampling, the shape of train_X: {}'.format(X_train_prod2.shape))\n",
    "print('After OverSampling, the shape of train_y: {} \\n'.format(y_train_prod2.shape))\n",
    "\n",
    "print(\"After OverSampling, counts of label '2': {}\".format(sum(y_train_prod2 == 1)))\n",
    "print(\"After OverSampling, counts of label '0': {}\".format(sum(y_train_prod2 == 0)))"
   ]
  },
  {
   "cell_type": "code",
   "execution_count": 100,
   "metadata": {},
   "outputs": [
    {
     "name": "stdout",
     "output_type": "stream",
     "text": [
      "\n",
      " Accuracy:  0.9751011345791866\n"
     ]
    }
   ],
   "source": [
    "X_train_2,X_test_2,y_train_2,y_test_2=train_test_split(X_var,y_prod2,test_size=0.20,random_state=0)\n",
    "\n",
    "sm = RandomOverSampler(random_state = 3)\n",
    "X_train_prod2, y_train_prod2 = sm.fit_sample(X_train_2, y_train_2.ravel())\n",
    "\n",
    "xgb_2 = XGBClassifier(objective ='multi:softprob', learning_rate = 0.2,\n",
    "                            max_depth = 20, alpha = 20, n_estimators = 20,num_class=2)\n",
    "model_xgb_2=xgb_2.fit(X_train_2, y_train_2)\n",
    "prediction_xgb= model_xgb_2.predict(X_test_2)\n",
    "print('\\n Accuracy: ',accuracy_score(y_test_2, prediction_xgb))"
   ]
  },
  {
   "cell_type": "markdown",
   "metadata": {},
   "source": [
    "### Modeling: Activity 3"
   ]
  },
  {
   "cell_type": "code",
   "execution_count": 101,
   "metadata": {},
   "outputs": [
    {
     "name": "stdout",
     "output_type": "stream",
     "text": [
      "Value Counts 0    1706440\n",
      "1     216737\n",
      "Name: Standing, dtype: int64\n",
      "Before OverSampling, counts of label '3': 195003\n",
      "Before OverSampling, counts of label '0': 1535856 \n",
      "\n",
      "After OverSampling, the shape of train_X: (3071712, 3)\n",
      "After OverSampling, the shape of train_y: (3071712,) \n",
      "\n",
      "After OverSampling, counts of label '3': 1535856\n",
      "After OverSampling, counts of label '0': 1535856\n"
     ]
    }
   ],
   "source": [
    "y_prod3 =df_final['Standing']\n",
    "print(\"Value Counts\",y_prod3.value_counts())\n",
    "\n",
    "X_train_3,X_test_3,y_train_3,y_test_3=train_test_split(X_var,y_prod3,test_size=0.1,random_state=0)\n",
    "\n",
    "print(\"Before OverSampling, counts of label '3': {}\".format(sum(y_train_3 == 1)))\n",
    "print(\"Before OverSampling, counts of label '0': {} \\n\".format(sum(y_train_3 == 0)))\n",
    "\n",
    "ros = RandomOverSampler(random_state=42)\n",
    "X_train_prod3, y_train_prod3 = ros.fit_resample(X_train_3, y_train_3)\n",
    "\n",
    "\n",
    "print('After OverSampling, the shape of train_X: {}'.format(X_train_prod3.shape))\n",
    "print('After OverSampling, the shape of train_y: {} \\n'.format(y_train_prod3.shape))\n",
    "\n",
    "print(\"After OverSampling, counts of label '3': {}\".format(sum(y_train_prod3 == 1)))\n",
    "print(\"After OverSampling, counts of label '0': {}\".format(sum(y_train_prod3 == 0)))"
   ]
  },
  {
   "cell_type": "code",
   "execution_count": 102,
   "metadata": {},
   "outputs": [
    {
     "name": "stdout",
     "output_type": "stream",
     "text": [
      "\n",
      " Accuracy:  0.8869892573758047\n"
     ]
    }
   ],
   "source": [
    "xgb_3 = XGBClassifier(objective ='multi:softprob', learning_rate = 0.3,\n",
    "                max_depth = 30, alpha = 30, n_estimators = 30,num_class=3)\n",
    "model_xgb_3=xgb_3.fit(X_train_3, y_train_3)\n",
    "prediction_xgb= model_xgb_3.predict(X_test_3)\n",
    "print('\\n Accuracy: ',accuracy_score(y_test_3, prediction_xgb))"
   ]
  },
  {
   "cell_type": "markdown",
   "metadata": {},
   "source": [
    "### Modeling: Activity 4"
   ]
  },
  {
   "cell_type": "code",
   "execution_count": 103,
   "metadata": {},
   "outputs": [
    {
     "name": "stdout",
     "output_type": "stream",
     "text": [
      "Value Counts 0    1566113\n",
      "1     357064\n",
      "Name: Walking, dtype: int64\n",
      "Before OverSampling, counts of label '4': 321251\n",
      "Before OverSampling, counts of label '0': 1409608 \n",
      "\n",
      "After OverSampling, the shape of train_X: (2819216, 3)\n",
      "After OverSampling, the shape of train_y: (2819216,) \n",
      "\n",
      "After OverSampling, counts of label '4': 1409608\n",
      "After OverSampling, counts of label '0': 1409608\n"
     ]
    }
   ],
   "source": [
    "y_prod4 =df_final['Walking']\n",
    "print(\"Value Counts\",y_prod4.value_counts())\n",
    "\n",
    "X_train_4,X_test_4,y_train_4,y_test_4=train_test_split(X_var,y_prod4,test_size=0.10,random_state=0)\n",
    "\n",
    "print(\"Before OverSampling, counts of label '4': {}\".format(sum(y_train_4 == 1)))\n",
    "print(\"Before OverSampling, counts of label '0': {} \\n\".format(sum(y_train_4 == 0)))\n",
    "\n",
    "ros = RandomOverSampler(random_state=42)\n",
    "X_train_prod4, y_train_prod4 = ros.fit_resample(X_train_4, y_train_4)\n",
    "\n",
    "\n",
    "print('After OverSampling, the shape of train_X: {}'.format(X_train_prod4.shape))\n",
    "print('After OverSampling, the shape of train_y: {} \\n'.format(y_train_prod4.shape))\n",
    "\n",
    "print(\"After OverSampling, counts of label '4': {}\".format(sum(y_train_prod4 == 1)))\n",
    "print(\"After OverSampling, counts of label '0': {}\".format(sum(y_train_prod4 == 0)))"
   ]
  },
  {
   "cell_type": "code",
   "execution_count": 104,
   "metadata": {},
   "outputs": [
    {
     "name": "stdout",
     "output_type": "stream",
     "text": [
      "\n",
      " Accuracy:  0.8317162200106074\n"
     ]
    }
   ],
   "source": [
    "xgb_4 = XGBClassifier(objective ='multi:softprob', learning_rate = 0.4,\n",
    "                max_depth = 40, alpha = 40, n_estimators = 40,num_class=4)\n",
    "model_xgb_4=xgb_4.fit(X_train_4, y_train_4)\n",
    "prediction_xgb= model_xgb_4.predict(X_test_4)\n",
    "print('\\n Accuracy: ',accuracy_score(y_test_4, prediction_xgb))"
   ]
  },
  {
   "cell_type": "markdown",
   "metadata": {},
   "source": [
    "### Modeling: Activity 5"
   ]
  },
  {
   "cell_type": "code",
   "execution_count": 105,
   "metadata": {},
   "outputs": [
    {
     "name": "stdout",
     "output_type": "stream",
     "text": [
      "Value Counts 0    1871679\n",
      "1      51498\n",
      "Name: Going Up\\Down Stairs, dtype: int64\n",
      "Before OverSampling, counts of label '5': 46427\n",
      "Before OverSampling, counts of label '0': 1684432 \n",
      "\n",
      "After OverSampling, the shape of train_X: (3368864, 3)\n",
      "After OverSampling, the shape of train_y: (3368864,) \n",
      "\n",
      "After OverSampling, counts of label '5': 1684432\n",
      "After OverSampling, counts of label '0': 1684432\n"
     ]
    }
   ],
   "source": [
    "y_prod5 =df_final['Going Up\\Down Stairs']\n",
    "\n",
    "print(\"Value Counts\",y_prod5.value_counts())\n",
    "\n",
    "X_train_5,X_test_5,y_train_5,y_test_5=train_test_split(X_var,y_prod5,test_size=0.10,random_state=0)\n",
    "\n",
    "print(\"Before OverSampling, counts of label '5': {}\".format(sum(y_train_5 == 1)))\n",
    "print(\"Before OverSampling, counts of label '0': {} \\n\".format(sum(y_train_5 == 0)))\n",
    "\n",
    "ros = RandomOverSampler(random_state=42)\n",
    "X_train_prod5, y_train_prod5 = ros.fit_resample(X_train_5, y_train_5)\n",
    "\n",
    "\n",
    "print('After OverSampling, the shape of train_X: {}'.format(X_train_prod5.shape))\n",
    "print('After OverSampling, the shape of train_y: {} \\n'.format(y_train_prod5.shape))\n",
    "\n",
    "print(\"After OverSampling, counts of label '5': {}\".format(sum(y_train_prod5 == 1)))\n",
    "print(\"After OverSampling, counts of label '0': {}\".format(sum(y_train_prod5 == 0)))\n"
   ]
  },
  {
   "cell_type": "code",
   "execution_count": 106,
   "metadata": {},
   "outputs": [
    {
     "name": "stdout",
     "output_type": "stream",
     "text": [
      "\n",
      " Accuracy:  0.9736322133133664\n"
     ]
    }
   ],
   "source": [
    "xgb_5 = XGBClassifier(objective ='multi:softprob', learning_rate = 0.5,\n",
    "                            max_depth = 50, alpha = 50, n_estimators = 50,num_class=5)\n",
    "model_xgb_5=xgb_5.fit(X_train_5, y_train_5)\n",
    "prediction_xgb= model_xgb_5.predict(X_test_5)\n",
    "print('\\n Accuracy: ',accuracy_score(y_test_5, prediction_xgb))"
   ]
  },
  {
   "cell_type": "markdown",
   "metadata": {},
   "source": [
    "### Modeling: Activity 6"
   ]
  },
  {
   "cell_type": "code",
   "execution_count": 107,
   "metadata": {},
   "outputs": [
    {
     "name": "stdout",
     "output_type": "stream",
     "text": [
      "Value Counts 0    1875407\n",
      "1      47770\n",
      "Name: Walking and Talking with Someone, dtype: int64\n",
      "Before OverSampling, counts of label '6': 42987\n",
      "Before OverSampling, counts of label '0': 1687872 \n",
      "\n",
      "After OverSampling, the shape of train_X: (3375744, 3)\n",
      "After OverSampling, the shape of train_y: (3375744,) \n",
      "\n",
      "After OverSampling, counts of label '6': 1687872\n",
      "After OverSampling, counts of label '0': 1687872\n"
     ]
    }
   ],
   "source": [
    "y_prod6 =df_final['Walking and Talking with Someone']\n",
    "\n",
    "print(\"Value Counts\",y_prod6.value_counts())\n",
    "\n",
    "X_train_6,X_test_6,y_train_6,y_test_6=train_test_split(X_var,y_prod6,test_size=0.10,random_state=0)\n",
    "\n",
    "print(\"Before OverSampling, counts of label '6': {}\".format(sum(y_train_6 == 1)))\n",
    "print(\"Before OverSampling, counts of label '0': {} \\n\".format(sum(y_train_6 == 0)))\n",
    "\n",
    "ros = RandomOverSampler(random_state=42)\n",
    "X_train_prod6, y_train_prod6 = ros.fit_resample(X_train_6, y_train_6)\n",
    "\n",
    "print('After OverSampling, the shape of train_X: {}'.format(X_train_prod6.shape))\n",
    "print('After OverSampling, the shape of train_y: {} \\n'.format(y_train_prod6.shape))\n",
    "\n",
    "print(\"After OverSampling, counts of label '6': {}\".format(sum(y_train_prod6 == 1)))\n",
    "print(\"After OverSampling, counts of label '0': {}\".format(sum(y_train_prod6 == 0)))\n"
   ]
  },
  {
   "cell_type": "code",
   "execution_count": 109,
   "metadata": {},
   "outputs": [
    {
     "name": "stdout",
     "output_type": "stream",
     "text": [
      "\n",
      " Accuracy:  0.9751297330463087\n"
     ]
    }
   ],
   "source": [
    "xgb_6 = XGBClassifier(objective ='multi:softprob', learning_rate = 0.6,\n",
    "                max_depth = 60, alpha = 60, n_estimators = 60,num_class=6)\n",
    "model_xgb_6=xgb_6.fit(X_train_6, y_train_6)\n",
    "prediction_xgb= model_xgb_6.predict(X_test_6)\n",
    "print('\\n Accuracy: ',accuracy_score(y_test_6, prediction_xgb))"
   ]
  },
  {
   "cell_type": "markdown",
   "metadata": {},
   "source": [
    "### Modeling: Activity 7"
   ]
  },
  {
   "cell_type": "code",
   "execution_count": 110,
   "metadata": {},
   "outputs": [
    {
     "name": "stdout",
     "output_type": "stream",
     "text": [
      "Value Counts 0    1329614\n",
      "1     593563\n",
      "Name: Talking while Standing, dtype: int64\n",
      "Before OverSampling, counts of label '7': 534140\n",
      "Before OverSampling, counts of label '0': 1196719 \n",
      "\n",
      "After OverSampling, the shape of train_X: (2393438, 3)\n",
      "After OverSampling, the shape of train_y: (2393438,) \n",
      "\n",
      "After OverSampling, counts of label '7': 1196719\n",
      "After OverSampling, counts of label '0': 1196719\n"
     ]
    }
   ],
   "source": [
    "y_prod7 =df_final['Talking while Standing']\n",
    "\n",
    "print(\"Value Counts\",y_prod7.value_counts())\n",
    "\n",
    "X_train_7,X_test_7,y_train_7,y_test_7=train_test_split(X_var,y_prod7,test_size=0.10,random_state=0)\n",
    "\n",
    "print(\"Before OverSampling, counts of label '7': {}\".format(sum(y_train_7 == 1)))\n",
    "print(\"Before OverSampling, counts of label '0': {} \\n\".format(sum(y_train_7 == 0)))\n",
    "\n",
    "ros = RandomOverSampler(random_state=42)\n",
    "X_train_prod7, y_train_prod7 = ros.fit_resample(X_train_7, y_train_7)\n",
    "\n",
    "print('After OverSampling, the shape of train_X: {}'.format(X_train_prod7.shape))\n",
    "print('After OverSampling, the shape of train_y: {} \\n'.format(y_train_prod7.shape))\n",
    "\n",
    "print(\"After OverSampling, counts of label '7': {}\".format(sum(y_train_prod7 == 1)))\n",
    "print(\"After OverSampling, counts of label '0': {}\".format(sum(y_train_prod7 == 0)))"
   ]
  },
  {
   "cell_type": "code",
   "execution_count": 111,
   "metadata": {},
   "outputs": [
    {
     "name": "stdout",
     "output_type": "stream",
     "text": [
      "\n",
      " Accuracy:  0.6934192327291258\n"
     ]
    }
   ],
   "source": [
    "xgb_7 = XGBClassifier(objective ='multi:softprob', learning_rate = 0.7,\n",
    "                max_depth = 70, alpha = 70, n_estimators = 70,num_class=7)\n",
    "model_xgb_7=xgb_7.fit(X_train_7, y_train_7)\n",
    "prediction_xgb= model_xgb_7.predict(X_test_7)\n",
    "print('\\n Accuracy: ',accuracy_score(y_test_7, prediction_xgb))"
   ]
  },
  {
   "cell_type": "code",
   "execution_count": null,
   "metadata": {},
   "outputs": [],
   "source": []
  }
 ],
 "metadata": {
  "kernelspec": {
   "display_name": "Python 3",
   "language": "python",
   "name": "python3"
  },
  "language_info": {
   "codemirror_mode": {
    "name": "ipython",
    "version": 3
   },
   "file_extension": ".py",
   "mimetype": "text/x-python",
   "name": "python",
   "nbconvert_exporter": "python",
   "pygments_lexer": "ipython3",
   "version": "3.7.6"
  }
 },
 "nbformat": 4,
 "nbformat_minor": 4
}
